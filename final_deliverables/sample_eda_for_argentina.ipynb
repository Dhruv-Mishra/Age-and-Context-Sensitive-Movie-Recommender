{
  "nbformat": 4,
  "nbformat_minor": 0,
  "metadata": {
    "colab": {
      "provenance": []
    },
    "kernelspec": {
      "name": "python3",
      "display_name": "Python 3"
    },
    "language_info": {
      "name": "python"
    }
  },
  "cells": [
    {
      "cell_type": "code",
      "execution_count": 6,
      "metadata": {
        "id": "-quO1Z42J1Ao"
      },
      "outputs": [],
      "source": [
        "import pandas as pd"
      ]
    },
    {
      "cell_type": "code",
      "source": [
        "df = pd.read_csv(\"/content/final_dataset.csv\")\n",
        "df.head()"
      ],
      "metadata": {
        "colab": {
          "base_uri": "https://localhost:8080/",
          "height": 337
        },
        "id": "dGvvIcGSKGcn",
        "outputId": "202ac052-c17c-43d3-ecb7-2825c62510aa"
      },
      "execution_count": 7,
      "outputs": [
        {
          "output_type": "execute_result",
          "data": {
            "text/plain": [
              "                   Movie Title  \\\n",
              "0                    Toy Story   \n",
              "1                      Jumanji   \n",
              "2             Grumpier Old Men   \n",
              "3            Waiting to Exhale   \n",
              "4  Father of the Bride Part II   \n",
              "\n",
              "                                                Plot  \\\n",
              "0  A little boy named Andy loves to be in his roo...   \n",
              "1  Jumanji, one of the most unique--and dangerous...   \n",
              "2  Things don't seem to change much in Wabasha Co...   \n",
              "3  This story based on the best selling novel by ...   \n",
              "4  In this sequel to \"Father of the Bride\", Georg...   \n",
              "\n",
              "                                          Poster_URL  Imdb rating  \\\n",
              "0  https://m.media-amazon.com/images/M/MV5BMDU2ZW...          8.3   \n",
              "1  https://m.media-amazon.com/images/M/MV5BZTk2Zm...          7.0   \n",
              "2  https://m.media-amazon.com/images/M/MV5BMjQxM2...          6.6   \n",
              "3  https://m.media-amazon.com/images/M/MV5BYzcyMD...          5.9   \n",
              "4  https://m.media-amazon.com/images/M/MV5BOTEyNz...          6.0   \n",
              "\n",
              "                                          Age rating  \n",
              "0  ['Argentina:Atp', 'Australia:G', 'Austria:0', ...  \n",
              "1  ['Argentina:Atp', 'Australia:PG', 'Brazil:12',...  \n",
              "2  ['Argentina:Atp', 'Australia:PG', 'Finland:S',...  \n",
              "3  ['Argentina:13', 'Australia:M', 'Canada:14A', ...  \n",
              "4  ['Argentina:Atp', 'Australia:G', 'Brazil:Livre...  "
            ],
            "text/html": [
              "\n",
              "  <div id=\"df-4c1570d7-25dd-418b-8fdd-818e9c04607d\">\n",
              "    <div class=\"colab-df-container\">\n",
              "      <div>\n",
              "<style scoped>\n",
              "    .dataframe tbody tr th:only-of-type {\n",
              "        vertical-align: middle;\n",
              "    }\n",
              "\n",
              "    .dataframe tbody tr th {\n",
              "        vertical-align: top;\n",
              "    }\n",
              "\n",
              "    .dataframe thead th {\n",
              "        text-align: right;\n",
              "    }\n",
              "</style>\n",
              "<table border=\"1\" class=\"dataframe\">\n",
              "  <thead>\n",
              "    <tr style=\"text-align: right;\">\n",
              "      <th></th>\n",
              "      <th>Movie Title</th>\n",
              "      <th>Plot</th>\n",
              "      <th>Poster_URL</th>\n",
              "      <th>Imdb rating</th>\n",
              "      <th>Age rating</th>\n",
              "    </tr>\n",
              "  </thead>\n",
              "  <tbody>\n",
              "    <tr>\n",
              "      <th>0</th>\n",
              "      <td>Toy Story</td>\n",
              "      <td>A little boy named Andy loves to be in his roo...</td>\n",
              "      <td>https://m.media-amazon.com/images/M/MV5BMDU2ZW...</td>\n",
              "      <td>8.3</td>\n",
              "      <td>['Argentina:Atp', 'Australia:G', 'Austria:0', ...</td>\n",
              "    </tr>\n",
              "    <tr>\n",
              "      <th>1</th>\n",
              "      <td>Jumanji</td>\n",
              "      <td>Jumanji, one of the most unique--and dangerous...</td>\n",
              "      <td>https://m.media-amazon.com/images/M/MV5BZTk2Zm...</td>\n",
              "      <td>7.0</td>\n",
              "      <td>['Argentina:Atp', 'Australia:PG', 'Brazil:12',...</td>\n",
              "    </tr>\n",
              "    <tr>\n",
              "      <th>2</th>\n",
              "      <td>Grumpier Old Men</td>\n",
              "      <td>Things don't seem to change much in Wabasha Co...</td>\n",
              "      <td>https://m.media-amazon.com/images/M/MV5BMjQxM2...</td>\n",
              "      <td>6.6</td>\n",
              "      <td>['Argentina:Atp', 'Australia:PG', 'Finland:S',...</td>\n",
              "    </tr>\n",
              "    <tr>\n",
              "      <th>3</th>\n",
              "      <td>Waiting to Exhale</td>\n",
              "      <td>This story based on the best selling novel by ...</td>\n",
              "      <td>https://m.media-amazon.com/images/M/MV5BYzcyMD...</td>\n",
              "      <td>5.9</td>\n",
              "      <td>['Argentina:13', 'Australia:M', 'Canada:14A', ...</td>\n",
              "    </tr>\n",
              "    <tr>\n",
              "      <th>4</th>\n",
              "      <td>Father of the Bride Part II</td>\n",
              "      <td>In this sequel to \"Father of the Bride\", Georg...</td>\n",
              "      <td>https://m.media-amazon.com/images/M/MV5BOTEyNz...</td>\n",
              "      <td>6.0</td>\n",
              "      <td>['Argentina:Atp', 'Australia:G', 'Brazil:Livre...</td>\n",
              "    </tr>\n",
              "  </tbody>\n",
              "</table>\n",
              "</div>\n",
              "      <button class=\"colab-df-convert\" onclick=\"convertToInteractive('df-4c1570d7-25dd-418b-8fdd-818e9c04607d')\"\n",
              "              title=\"Convert this dataframe to an interactive table.\"\n",
              "              style=\"display:none;\">\n",
              "        \n",
              "  <svg xmlns=\"http://www.w3.org/2000/svg\" height=\"24px\"viewBox=\"0 0 24 24\"\n",
              "       width=\"24px\">\n",
              "    <path d=\"M0 0h24v24H0V0z\" fill=\"none\"/>\n",
              "    <path d=\"M18.56 5.44l.94 2.06.94-2.06 2.06-.94-2.06-.94-.94-2.06-.94 2.06-2.06.94zm-11 1L8.5 8.5l.94-2.06 2.06-.94-2.06-.94L8.5 2.5l-.94 2.06-2.06.94zm10 10l.94 2.06.94-2.06 2.06-.94-2.06-.94-.94-2.06-.94 2.06-2.06.94z\"/><path d=\"M17.41 7.96l-1.37-1.37c-.4-.4-.92-.59-1.43-.59-.52 0-1.04.2-1.43.59L10.3 9.45l-7.72 7.72c-.78.78-.78 2.05 0 2.83L4 21.41c.39.39.9.59 1.41.59.51 0 1.02-.2 1.41-.59l7.78-7.78 2.81-2.81c.8-.78.8-2.07 0-2.86zM5.41 20L4 18.59l7.72-7.72 1.47 1.35L5.41 20z\"/>\n",
              "  </svg>\n",
              "      </button>\n",
              "      \n",
              "  <style>\n",
              "    .colab-df-container {\n",
              "      display:flex;\n",
              "      flex-wrap:wrap;\n",
              "      gap: 12px;\n",
              "    }\n",
              "\n",
              "    .colab-df-convert {\n",
              "      background-color: #E8F0FE;\n",
              "      border: none;\n",
              "      border-radius: 50%;\n",
              "      cursor: pointer;\n",
              "      display: none;\n",
              "      fill: #1967D2;\n",
              "      height: 32px;\n",
              "      padding: 0 0 0 0;\n",
              "      width: 32px;\n",
              "    }\n",
              "\n",
              "    .colab-df-convert:hover {\n",
              "      background-color: #E2EBFA;\n",
              "      box-shadow: 0px 1px 2px rgba(60, 64, 67, 0.3), 0px 1px 3px 1px rgba(60, 64, 67, 0.15);\n",
              "      fill: #174EA6;\n",
              "    }\n",
              "\n",
              "    [theme=dark] .colab-df-convert {\n",
              "      background-color: #3B4455;\n",
              "      fill: #D2E3FC;\n",
              "    }\n",
              "\n",
              "    [theme=dark] .colab-df-convert:hover {\n",
              "      background-color: #434B5C;\n",
              "      box-shadow: 0px 1px 3px 1px rgba(0, 0, 0, 0.15);\n",
              "      filter: drop-shadow(0px 1px 2px rgba(0, 0, 0, 0.3));\n",
              "      fill: #FFFFFF;\n",
              "    }\n",
              "  </style>\n",
              "\n",
              "      <script>\n",
              "        const buttonEl =\n",
              "          document.querySelector('#df-4c1570d7-25dd-418b-8fdd-818e9c04607d button.colab-df-convert');\n",
              "        buttonEl.style.display =\n",
              "          google.colab.kernel.accessAllowed ? 'block' : 'none';\n",
              "\n",
              "        async function convertToInteractive(key) {\n",
              "          const element = document.querySelector('#df-4c1570d7-25dd-418b-8fdd-818e9c04607d');\n",
              "          const dataTable =\n",
              "            await google.colab.kernel.invokeFunction('convertToInteractive',\n",
              "                                                     [key], {});\n",
              "          if (!dataTable) return;\n",
              "\n",
              "          const docLinkHtml = 'Like what you see? Visit the ' +\n",
              "            '<a target=\"_blank\" href=https://colab.research.google.com/notebooks/data_table.ipynb>data table notebook</a>'\n",
              "            + ' to learn more about interactive tables.';\n",
              "          element.innerHTML = '';\n",
              "          dataTable['output_type'] = 'display_data';\n",
              "          await google.colab.output.renderOutput(dataTable, element);\n",
              "          const docLink = document.createElement('div');\n",
              "          docLink.innerHTML = docLinkHtml;\n",
              "          element.appendChild(docLink);\n",
              "        }\n",
              "      </script>\n",
              "    </div>\n",
              "  </div>\n",
              "  "
            ]
          },
          "metadata": {},
          "execution_count": 7
        }
      ]
    },
    {
      "cell_type": "code",
      "source": [
        "print(df.columns.tolist())"
      ],
      "metadata": {
        "colab": {
          "base_uri": "https://localhost:8080/"
        },
        "id": "79XoZKVUOcf7",
        "outputId": "3b7618a4-e118-4a25-8f96-e519f7a262da"
      },
      "execution_count": 8,
      "outputs": [
        {
          "output_type": "stream",
          "name": "stdout",
          "text": [
            "['Movie Title', 'Plot', 'Poster_URL', 'Imdb rating', 'Age rating']\n"
          ]
        }
      ]
    },
    {
      "cell_type": "code",
      "source": [
        "print(df['Age rating'].dtype)"
      ],
      "metadata": {
        "colab": {
          "base_uri": "https://localhost:8080/"
        },
        "id": "4w56dvJeOmsy",
        "outputId": "561c27fa-a2c0-4e16-f58d-87badc0ea2a9"
      },
      "execution_count": 9,
      "outputs": [
        {
          "output_type": "stream",
          "name": "stdout",
          "text": [
            "object\n"
          ]
        }
      ]
    },
    {
      "cell_type": "code",
      "source": [
        "age_ratings = {}\n",
        "ratings_imdb = {} # Num of movies with imdb rating > 7 corresponding to this age rating\n",
        "\n",
        "for index, row in df.iterrows():\n",
        "  curr = row['Age rating']\n",
        "  curr = str(curr)\n",
        "  ind = curr.find(\"Argentina:\")\n",
        "  if ind != -1:\n",
        "    apostropheat = curr.find(\"'\", ind)\n",
        "    rt = curr[ind + 10: apostropheat]\n",
        "    # print(curr[ind:apostropheat])\n",
        "    if rt not in age_ratings:\n",
        "      age_ratings[rt] = 1\n",
        "    else:\n",
        "      age_ratings[rt] += 1\n",
        "    if rt not in ratings_imdb:\n",
        "      ratings_imdb[rt] = 0\n",
        "    # find num of movies with imdb rating > 7 corresponding to this age rating\n",
        "    if row['Imdb rating'] >= 7.0:\t\n",
        "      ratings_imdb[rt] += 1"
      ],
      "metadata": {
        "id": "K1hlvoCmMOfF"
      },
      "execution_count": 10,
      "outputs": []
    },
    {
      "cell_type": "code",
      "source": [
        "print(age_ratings)"
      ],
      "metadata": {
        "colab": {
          "base_uri": "https://localhost:8080/"
        },
        "id": "IF2KJKZaROZm",
        "outputId": "2fafeb2d-d3fc-4830-9712-b0993da7ff1a"
      },
      "execution_count": 11,
      "outputs": [
        {
          "output_type": "stream",
          "name": "stdout",
          "text": [
            "{'Atp': 1642, '13': 2633, '16': 1423, '18': 546, '18::(with warning)': 5, 'X::(orginal rating)': 1, '14': 108, 'M::(DVD rating)': 1, 'X': 54, '16::(with warning)': 16, 'Unrated': 13, '13::(DVD rating)': 9, '18::(cable rating)': 3, '16::(video rating)': 2, '18::(VHS and DVD rating)': 1, '13::(theatrical rating)': 1, '13::(with warning)': 35, 'Atp::(DVD rating)': 8, '14::(theatrical rating)': 1, '16::(cable rating)': 1, 'Atp::(CR)': 2, '13::(with restriction)': 1, '16::(self-applied)': 1, '13::(VHS rating)': 1, 'X::(Banned until 1983)': 1, '16::(DVD rating)': 3, 'ATP': 1, 'M': 1, '13::(with discretion)': 2, '18::(with restriction)': 1, '16::(with discretion)': 1, 'Atp::(with discretion)': 1, 'Atp::(with restriction)': 1, 'Atp::(CL)': 2, 'Atp::(with warning)': 8, 'Atp::(TV rating)': 3}\n"
          ]
        }
      ]
    },
    {
      "cell_type": "code",
      "source": [
        "print(ratings_imdb)"
      ],
      "metadata": {
        "colab": {
          "base_uri": "https://localhost:8080/"
        },
        "id": "2nIU3Ho1i17R",
        "outputId": "e42d65d1-391a-462a-e3cf-6c90ab46ec47"
      },
      "execution_count": 12,
      "outputs": [
        {
          "output_type": "stream",
          "name": "stdout",
          "text": [
            "{'Atp': 727, '13': 1107, '16': 651, '18': 267, '18::(with warning)': 2, 'X::(orginal rating)': 0, '14': 65, 'M::(DVD rating)': 0, 'X': 22, '16::(with warning)': 7, 'Unrated': 9, '13::(DVD rating)': 6, '18::(cable rating)': 0, '16::(video rating)': 0, '18::(VHS and DVD rating)': 0, '13::(theatrical rating)': 0, '13::(with warning)': 14, 'Atp::(DVD rating)': 5, '14::(theatrical rating)': 0, '16::(cable rating)': 0, 'Atp::(CR)': 0, '13::(with restriction)': 1, '16::(self-applied)': 0, '13::(VHS rating)': 0, 'X::(Banned until 1983)': 0, '16::(DVD rating)': 1, 'ATP': 1, 'M': 0, '13::(with discretion)': 1, '18::(with restriction)': 0, '16::(with discretion)': 0, 'Atp::(with discretion)': 0, 'Atp::(with restriction)': 0, 'Atp::(CL)': 1, 'Atp::(with warning)': 4, 'Atp::(TV rating)': 0}\n"
          ]
        }
      ]
    },
    {
      "cell_type": "code",
      "source": [
        "fin_age_ratings = {}\n",
        "fin_age_ratings['Atp'] = 0\n",
        "fin_age_ratings['13'] = 0\n",
        "fin_age_ratings['16'] = 0\n",
        "fin_age_ratings['18'] = 0\n",
        "fin_age_ratings['Unrated'] = 0\n",
        "fin_age_ratings['Other'] = 0"
      ],
      "metadata": {
        "id": "tcMPkgOfWF_9"
      },
      "execution_count": 13,
      "outputs": []
    },
    {
      "cell_type": "code",
      "source": [
        "fin_ratings_imdb = {}\n",
        "fin_ratings_imdb['Atp'] = 0\n",
        "fin_ratings_imdb['13'] = 0\n",
        "fin_ratings_imdb['16'] = 0\n",
        "fin_ratings_imdb['18'] = 0\n",
        "fin_ratings_imdb['Unrated'] = 0\n",
        "fin_ratings_imdb['Other'] = 0"
      ],
      "metadata": {
        "id": "EOtFKQE0jG3f"
      },
      "execution_count": 14,
      "outputs": []
    },
    {
      "cell_type": "code",
      "source": [
        "for i in age_ratings:\n",
        "  curr = i.lower()\n",
        "  if curr.find('atp') != -1:\n",
        "    fin_age_ratings['Atp'] += age_ratings[i]\n",
        "  elif curr.find('13') != -1 or curr.find('14') != -1:\n",
        "    fin_age_ratings['13'] += age_ratings[i]\n",
        "  elif curr.find('16') != -1:\n",
        "    fin_age_ratings['16'] += age_ratings[i]\n",
        "  elif curr.find('18') != -1:\n",
        "    fin_age_ratings['18'] += age_ratings[i]\n",
        "  elif curr.find('unrated') != -1:\n",
        "    fin_age_ratings['Unrated'] += age_ratings[i]\n",
        "  else:\n",
        "    fin_age_ratings['Other'] += age_ratings[i]"
      ],
      "metadata": {
        "id": "Nis9xukOc0E7"
      },
      "execution_count": 15,
      "outputs": []
    },
    {
      "cell_type": "code",
      "source": [
        "for i in ratings_imdb:\n",
        "  curr = i.lower()\n",
        "  if curr.find('atp') != -1:\n",
        "    fin_ratings_imdb['Atp'] += ratings_imdb[i]\n",
        "  elif curr.find('13') != -1 or curr.find('14') != -1:\n",
        "    fin_ratings_imdb['13'] += ratings_imdb[i]\n",
        "  elif curr.find('16') != -1:\n",
        "    fin_ratings_imdb['16'] += ratings_imdb[i]\n",
        "  elif curr.find('18') != -1:\n",
        "    fin_ratings_imdb['18'] += ratings_imdb[i]\n",
        "  elif curr.find('unrated') != -1:\n",
        "    fin_ratings_imdb['Unrated'] += ratings_imdb[i]\n",
        "  else:\n",
        "    fin_ratings_imdb['Other'] += ratings_imdb[i]\n",
        "\n",
        "fin_ratings_imdb['Atp'] /= fin_age_ratings['Atp']/100 # For percentage\n",
        "fin_ratings_imdb['13'] /= fin_age_ratings['13']/100\n",
        "fin_ratings_imdb['16'] /= fin_age_ratings['16']/100\n",
        "fin_ratings_imdb['18'] /= fin_age_ratings['18']/100\n",
        "fin_ratings_imdb['Unrated'] /= fin_age_ratings['Unrated']/100\n",
        "fin_ratings_imdb['Other'] /= fin_age_ratings['Other']/100"
      ],
      "metadata": {
        "id": "BJy0G9ZOjdS6"
      },
      "execution_count": 16,
      "outputs": []
    },
    {
      "cell_type": "code",
      "source": [
        "print(fin_age_ratings)"
      ],
      "metadata": {
        "colab": {
          "base_uri": "https://localhost:8080/"
        },
        "id": "q6EcXPJEedmM",
        "outputId": "45c74652-eb12-4402-faa0-334bf99d2f73"
      },
      "execution_count": 17,
      "outputs": [
        {
          "output_type": "stream",
          "name": "stdout",
          "text": [
            "{'Atp': 1668, '13': 2791, '16': 1447, '18': 556, 'Unrated': 13, 'Other': 58}\n"
          ]
        }
      ]
    },
    {
      "cell_type": "code",
      "source": [
        "print(fin_ratings_imdb)"
      ],
      "metadata": {
        "colab": {
          "base_uri": "https://localhost:8080/"
        },
        "id": "MPhs8RXzkljR",
        "outputId": "8a43024d-dcda-4c2e-90d6-6c1277b93d0d"
      },
      "execution_count": 18,
      "outputs": [
        {
          "output_type": "stream",
          "name": "stdout",
          "text": [
            "{'Atp': 44.24460431654676, '13': 42.780365460408454, '16': 45.542501727712505, '18': 48.38129496402878, 'Unrated': 69.23076923076923, 'Other': 37.931034482758626}\n"
          ]
        }
      ]
    },
    {
      "cell_type": "code",
      "source": [
        "import matplotlib.pyplot as plt"
      ],
      "metadata": {
        "id": "ATGSDoYFiBHG"
      },
      "execution_count": 19,
      "outputs": []
    },
    {
      "cell_type": "code",
      "source": [
        "values = list(fin_age_ratings.values())\n",
        "\n",
        "y_min = 0\n",
        "y_max = max(values) + 100\n",
        "\n",
        "bar_width = 0.5\n",
        "\n",
        "x_values = range(len(values))\n",
        "x_left = [x_val - bar_width/2 for x_val in x_values]\n",
        "\n",
        "bar_heights = values\n",
        "\n",
        "plt.bar(x_left, bar_heights, width=bar_width, color=['#FFC0CB', '#E6E6FA', '#FFFF99', '#89CFF0', '#FFE5B4', '#98FF98']\n",
        ")\n",
        "plt.xticks(x_values, list(fin_age_ratings.keys()))\n",
        "plt.ylim(y_min, y_max)\n",
        "plt.ylabel('No. of movies')\n",
        "plt.xlabel('Age ratings')\n",
        "plt.title('Movie distribution by age ratings')\n",
        "plt.show()"
      ],
      "metadata": {
        "colab": {
          "base_uri": "https://localhost:8080/",
          "height": 472
        },
        "id": "wXjPQDmsetz5",
        "outputId": "2113881c-09ef-4237-98ea-121b3891903c"
      },
      "execution_count": 20,
      "outputs": [
        {
          "output_type": "display_data",
          "data": {
            "text/plain": [
              "<Figure size 640x480 with 1 Axes>"
            ],
            "image/png": "[encoded data removed]"
          },
          "metadata": {}
        }
      ]
    },
    {
      "cell_type": "code",
      "source": [
        "values = list(fin_ratings_imdb.values())\n",
        "\n",
        "y_min = 0\n",
        "y_max = 100\n",
        "\n",
        "bar_width = 0.5\n",
        "\n",
        "x_values = range(len(values))\n",
        "x_left = [x_val - bar_width/2 for x_val in x_values]\n",
        "\n",
        "bar_heights = values\n",
        "\n",
        "plt.bar(x_left, bar_heights, width=bar_width, color=['#FFC0CB', '#E6E6FA', '#FFFF99', '#89CFF0', '#FFE5B4', '#98FF98'])\n",
        "plt.xticks(x_values, list(fin_ratings_imdb.keys()))\n",
        "plt.ylim(y_min, y_max)\n",
        "plt.ylabel('Percentage')\n",
        "plt.xlabel('Age ratings')\n",
        "plt.title('% of movies having IMDB rating >= 7.0')\n",
        "plt.show()"
      ],
      "metadata": {
        "colab": {
          "base_uri": "https://localhost:8080/",
          "height": 472
        },
        "id": "kj7C_Tb2lv4N",
        "outputId": "421bb62a-2640-4c4d-b1d7-af0adcecd2ed"
      },
      "execution_count": 21,
      "outputs": [
        {
          "output_type": "display_data",
          "data": {
            "text/plain": [
              "<Figure size 640x480 with 1 Axes>"
            ],
            "image/png": "[encoded data removed]"
          },
          "metadata": {}
        }
      ]
    },
    {
      "cell_type": "markdown",
      "source": [
        "###Top 10 movies"
      ],
      "metadata": {
        "id": "ktNCuRirOxW_"
      }
    },
    {
      "cell_type": "code",
      "source": [
        "top_10_movies = df.nlargest(10, 'Imdb rating')\n",
        "top_10_movies = top_10_movies[['Movie Title', 'Imdb rating']]\n",
        "top_10_movies.head()"
      ],
      "metadata": {
        "colab": {
          "base_uri": "https://localhost:8080/",
          "height": 206
        },
        "id": "sum09MMtOBul",
        "outputId": "8a4c3c65-4f23-439e-ca96-7d4ac8e80fda"
      },
      "execution_count": 28,
      "outputs": [
        {
          "output_type": "execute_result",
          "data": {
            "text/plain": [
              "                   Movie Title  Imdb rating\n",
              "3779          Band of Brothers          9.4\n",
              "284   The Shawshank Redemption          9.3\n",
              "6133                    Cosmos          9.3\n",
              "8458     The Day of the Doctor          9.3\n",
              "6694             The Godfather          9.2"
            ],
            "text/html": [
              "\n",
              "  <div id=\"df-25207a69-14d0-4d48-88af-bcc26c1ab7aa\">\n",
              "    <div class=\"colab-df-container\">\n",
              "      <div>\n",
              "<style scoped>\n",
              "    .dataframe tbody tr th:only-of-type {\n",
              "        vertical-align: middle;\n",
              "    }\n",
              "\n",
              "    .dataframe tbody tr th {\n",
              "        vertical-align: top;\n",
              "    }\n",
              "\n",
              "    .dataframe thead th {\n",
              "        text-align: right;\n",
              "    }\n",
              "</style>\n",
              "<table border=\"1\" class=\"dataframe\">\n",
              "  <thead>\n",
              "    <tr style=\"text-align: right;\">\n",
              "      <th></th>\n",
              "      <th>Movie Title</th>\n",
              "      <th>Imdb rating</th>\n",
              "    </tr>\n",
              "  </thead>\n",
              "  <tbody>\n",
              "    <tr>\n",
              "      <th>3779</th>\n",
              "      <td>Band of Brothers</td>\n",
              "      <td>9.4</td>\n",
              "    </tr>\n",
              "    <tr>\n",
              "      <th>284</th>\n",
              "      <td>The Shawshank Redemption</td>\n",
              "      <td>9.3</td>\n",
              "    </tr>\n",
              "    <tr>\n",
              "      <th>6133</th>\n",
              "      <td>Cosmos</td>\n",
              "      <td>9.3</td>\n",
              "    </tr>\n",
              "    <tr>\n",
              "      <th>8458</th>\n",
              "      <td>The Day of the Doctor</td>\n",
              "      <td>9.3</td>\n",
              "    </tr>\n",
              "    <tr>\n",
              "      <th>6694</th>\n",
              "      <td>The Godfather</td>\n",
              "      <td>9.2</td>\n",
              "    </tr>\n",
              "  </tbody>\n",
              "</table>\n",
              "</div>\n",
              "      <button class=\"colab-df-convert\" onclick=\"convertToInteractive('df-25207a69-14d0-4d48-88af-bcc26c1ab7aa')\"\n",
              "              title=\"Convert this dataframe to an interactive table.\"\n",
              "              style=\"display:none;\">\n",
              "        \n",
              "  <svg xmlns=\"http://www.w3.org/2000/svg\" height=\"24px\"viewBox=\"0 0 24 24\"\n",
              "       width=\"24px\">\n",
              "    <path d=\"M0 0h24v24H0V0z\" fill=\"none\"/>\n",
              "    <path d=\"M18.56 5.44l.94 2.06.94-2.06 2.06-.94-2.06-.94-.94-2.06-.94 2.06-2.06.94zm-11 1L8.5 8.5l.94-2.06 2.06-.94-2.06-.94L8.5 2.5l-.94 2.06-2.06.94zm10 10l.94 2.06.94-2.06 2.06-.94-2.06-.94-.94-2.06-.94 2.06-2.06.94z\"/><path d=\"M17.41 7.96l-1.37-1.37c-.4-.4-.92-.59-1.43-.59-.52 0-1.04.2-1.43.59L10.3 9.45l-7.72 7.72c-.78.78-.78 2.05 0 2.83L4 21.41c.39.39.9.59 1.41.59.51 0 1.02-.2 1.41-.59l7.78-7.78 2.81-2.81c.8-.78.8-2.07 0-2.86zM5.41 20L4 18.59l7.72-7.72 1.47 1.35L5.41 20z\"/>\n",
              "  </svg>\n",
              "      </button>\n",
              "      \n",
              "  <style>\n",
              "    .colab-df-container {\n",
              "      display:flex;\n",
              "      flex-wrap:wrap;\n",
              "      gap: 12px;\n",
              "    }\n",
              "\n",
              "    .colab-df-convert {\n",
              "      background-color: #E8F0FE;\n",
              "      border: none;\n",
              "      border-radius: 50%;\n",
              "      cursor: pointer;\n",
              "      display: none;\n",
              "      fill: #1967D2;\n",
              "      height: 32px;\n",
              "      padding: 0 0 0 0;\n",
              "      width: 32px;\n",
              "    }\n",
              "\n",
              "    .colab-df-convert:hover {\n",
              "      background-color: #E2EBFA;\n",
              "      box-shadow: 0px 1px 2px rgba(60, 64, 67, 0.3), 0px 1px 3px 1px rgba(60, 64, 67, 0.15);\n",
              "      fill: #174EA6;\n",
              "    }\n",
              "\n",
              "    [theme=dark] .colab-df-convert {\n",
              "      background-color: #3B4455;\n",
              "      fill: #D2E3FC;\n",
              "    }\n",
              "\n",
              "    [theme=dark] .colab-df-convert:hover {\n",
              "      background-color: #434B5C;\n",
              "      box-shadow: 0px 1px 3px 1px rgba(0, 0, 0, 0.15);\n",
              "      filter: drop-shadow(0px 1px 2px rgba(0, 0, 0, 0.3));\n",
              "      fill: #FFFFFF;\n",
              "    }\n",
              "  </style>\n",
              "\n",
              "      <script>\n",
              "        const buttonEl =\n",
              "          document.querySelector('#df-25207a69-14d0-4d48-88af-bcc26c1ab7aa button.colab-df-convert');\n",
              "        buttonEl.style.display =\n",
              "          google.colab.kernel.accessAllowed ? 'block' : 'none';\n",
              "\n",
              "        async function convertToInteractive(key) {\n",
              "          const element = document.querySelector('#df-25207a69-14d0-4d48-88af-bcc26c1ab7aa');\n",
              "          const dataTable =\n",
              "            await google.colab.kernel.invokeFunction('convertToInteractive',\n",
              "                                                     [key], {});\n",
              "          if (!dataTable) return;\n",
              "\n",
              "          const docLinkHtml = 'Like what you see? Visit the ' +\n",
              "            '<a target=\"_blank\" href=https://colab.research.google.com/notebooks/data_table.ipynb>data table notebook</a>'\n",
              "            + ' to learn more about interactive tables.';\n",
              "          element.innerHTML = '';\n",
              "          dataTable['output_type'] = 'display_data';\n",
              "          await google.colab.output.renderOutput(dataTable, element);\n",
              "          const docLink = document.createElement('div');\n",
              "          docLink.innerHTML = docLinkHtml;\n",
              "          element.appendChild(docLink);\n",
              "        }\n",
              "      </script>\n",
              "    </div>\n",
              "  </div>\n",
              "  "
            ]
          },
          "metadata": {},
          "execution_count": 28
        }
      ]
    },
    {
      "cell_type": "code",
      "source": [
        "top_10_movies.tail()"
      ],
      "metadata": {
        "colab": {
          "base_uri": "https://localhost:8080/",
          "height": 206
        },
        "id": "n-sstZmXOrbl",
        "outputId": "d62d1644-2276-48d2-f447-b90e97ce0117"
      },
      "execution_count": 29,
      "outputs": [
        {
          "output_type": "execute_result",
          "data": {
            "text/plain": [
              "                                        Movie Title  Imdb rating\n",
              "8007                                  The Civil War          9.1\n",
              "472                                Schindler's List          9.0\n",
              "3632  The Lord of the Rings: The Return of the King          9.0\n",
              "4432                                        Dekalog          9.0\n",
              "5522                                The Dark Knight          9.0"
            ],
            "text/html": [
              "\n",
              "  <div id=\"df-62851abe-f250-494c-a80e-b7d51158c0cd\">\n",
              "    <div class=\"colab-df-container\">\n",
              "      <div>\n",
              "<style scoped>\n",
              "    .dataframe tbody tr th:only-of-type {\n",
              "        vertical-align: middle;\n",
              "    }\n",
              "\n",
              "    .dataframe tbody tr th {\n",
              "        vertical-align: top;\n",
              "    }\n",
              "\n",
              "    .dataframe thead th {\n",
              "        text-align: right;\n",
              "    }\n",
              "</style>\n",
              "<table border=\"1\" class=\"dataframe\">\n",
              "  <thead>\n",
              "    <tr style=\"text-align: right;\">\n",
              "      <th></th>\n",
              "      <th>Movie Title</th>\n",
              "      <th>Imdb rating</th>\n",
              "    </tr>\n",
              "  </thead>\n",
              "  <tbody>\n",
              "    <tr>\n",
              "      <th>8007</th>\n",
              "      <td>The Civil War</td>\n",
              "      <td>9.1</td>\n",
              "    </tr>\n",
              "    <tr>\n",
              "      <th>472</th>\n",
              "      <td>Schindler's List</td>\n",
              "      <td>9.0</td>\n",
              "    </tr>\n",
              "    <tr>\n",
              "      <th>3632</th>\n",
              "      <td>The Lord of the Rings: The Return of the King</td>\n",
              "      <td>9.0</td>\n",
              "    </tr>\n",
              "    <tr>\n",
              "      <th>4432</th>\n",
              "      <td>Dekalog</td>\n",
              "      <td>9.0</td>\n",
              "    </tr>\n",
              "    <tr>\n",
              "      <th>5522</th>\n",
              "      <td>The Dark Knight</td>\n",
              "      <td>9.0</td>\n",
              "    </tr>\n",
              "  </tbody>\n",
              "</table>\n",
              "</div>\n",
              "      <button class=\"colab-df-convert\" onclick=\"convertToInteractive('df-62851abe-f250-494c-a80e-b7d51158c0cd')\"\n",
              "              title=\"Convert this dataframe to an interactive table.\"\n",
              "              style=\"display:none;\">\n",
              "        \n",
              "  <svg xmlns=\"http://www.w3.org/2000/svg\" height=\"24px\"viewBox=\"0 0 24 24\"\n",
              "       width=\"24px\">\n",
              "    <path d=\"M0 0h24v24H0V0z\" fill=\"none\"/>\n",
              "    <path d=\"M18.56 5.44l.94 2.06.94-2.06 2.06-.94-2.06-.94-.94-2.06-.94 2.06-2.06.94zm-11 1L8.5 8.5l.94-2.06 2.06-.94-2.06-.94L8.5 2.5l-.94 2.06-2.06.94zm10 10l.94 2.06.94-2.06 2.06-.94-2.06-.94-.94-2.06-.94 2.06-2.06.94z\"/><path d=\"M17.41 7.96l-1.37-1.37c-.4-.4-.92-.59-1.43-.59-.52 0-1.04.2-1.43.59L10.3 9.45l-7.72 7.72c-.78.78-.78 2.05 0 2.83L4 21.41c.39.39.9.59 1.41.59.51 0 1.02-.2 1.41-.59l7.78-7.78 2.81-2.81c.8-.78.8-2.07 0-2.86zM5.41 20L4 18.59l7.72-7.72 1.47 1.35L5.41 20z\"/>\n",
              "  </svg>\n",
              "      </button>\n",
              "      \n",
              "  <style>\n",
              "    .colab-df-container {\n",
              "      display:flex;\n",
              "      flex-wrap:wrap;\n",
              "      gap: 12px;\n",
              "    }\n",
              "\n",
              "    .colab-df-convert {\n",
              "      background-color: #E8F0FE;\n",
              "      border: none;\n",
              "      border-radius: 50%;\n",
              "      cursor: pointer;\n",
              "      display: none;\n",
              "      fill: #1967D2;\n",
              "      height: 32px;\n",
              "      padding: 0 0 0 0;\n",
              "      width: 32px;\n",
              "    }\n",
              "\n",
              "    .colab-df-convert:hover {\n",
              "      background-color: #E2EBFA;\n",
              "      box-shadow: 0px 1px 2px rgba(60, 64, 67, 0.3), 0px 1px 3px 1px rgba(60, 64, 67, 0.15);\n",
              "      fill: #174EA6;\n",
              "    }\n",
              "\n",
              "    [theme=dark] .colab-df-convert {\n",
              "      background-color: #3B4455;\n",
              "      fill: #D2E3FC;\n",
              "    }\n",
              "\n",
              "    [theme=dark] .colab-df-convert:hover {\n",
              "      background-color: #434B5C;\n",
              "      box-shadow: 0px 1px 3px 1px rgba(0, 0, 0, 0.15);\n",
              "      filter: drop-shadow(0px 1px 2px rgba(0, 0, 0, 0.3));\n",
              "      fill: #FFFFFF;\n",
              "    }\n",
              "  </style>\n",
              "\n",
              "      <script>\n",
              "        const buttonEl =\n",
              "          document.querySelector('#df-62851abe-f250-494c-a80e-b7d51158c0cd button.colab-df-convert');\n",
              "        buttonEl.style.display =\n",
              "          google.colab.kernel.accessAllowed ? 'block' : 'none';\n",
              "\n",
              "        async function convertToInteractive(key) {\n",
              "          const element = document.querySelector('#df-62851abe-f250-494c-a80e-b7d51158c0cd');\n",
              "          const dataTable =\n",
              "            await google.colab.kernel.invokeFunction('convertToInteractive',\n",
              "                                                     [key], {});\n",
              "          if (!dataTable) return;\n",
              "\n",
              "          const docLinkHtml = 'Like what you see? Visit the ' +\n",
              "            '<a target=\"_blank\" href=https://colab.research.google.com/notebooks/data_table.ipynb>data table notebook</a>'\n",
              "            + ' to learn more about interactive tables.';\n",
              "          element.innerHTML = '';\n",
              "          dataTable['output_type'] = 'display_data';\n",
              "          await google.colab.output.renderOutput(dataTable, element);\n",
              "          const docLink = document.createElement('div');\n",
              "          docLink.innerHTML = docLinkHtml;\n",
              "          element.appendChild(docLink);\n",
              "        }\n",
              "      </script>\n",
              "    </div>\n",
              "  </div>\n",
              "  "
            ]
          },
          "metadata": {},
          "execution_count": 29
        }
      ]
    }
  ]
}