{
  "nbformat": 4,
  "nbformat_minor": 0,
  "metadata": {
    "colab": {
      "provenance": []
    },
    "kernelspec": {
      "name": "python3",
      "display_name": "Python 3"
    },
    "language_info": {
      "name": "python"
    }
  },
  "cells": [
    {
      "cell_type": "code",
      "execution_count": 1,
      "metadata": {
        "id": "zHruyGKJtvPW"
      },
      "outputs": [],
      "source": [
        "class TrieNode:\n",
        "    def __init__(self):\n",
        "        self.children = {}\n",
        "        self.is_end_of_word = False\n",
        "\n",
        "class Trie:\n",
        "    def __init__(self):\n",
        "        self.root = TrieNode()\n",
        "\n",
        "    def insert(self, word):\n",
        "        node = self.root\n",
        "        for char in word:\n",
        "            if char not in node.children:\n",
        "                node.children[char] = TrieNode()\n",
        "            node = node.children[char]\n",
        "        node.is_end_of_word = True\n",
        "\n",
        "    def search(self, word):\n",
        "        node = self.root\n",
        "        for char in word:\n",
        "            if char not in node.children:\n",
        "                return False\n",
        "            node = node.children[char]\n",
        "        return node.is_end_of_word\n",
        "\n",
        "    def suggestions(self, prefix):\n",
        "        node = self.root\n",
        "        for char in prefix:\n",
        "            if char not in node.children:\n",
        "                return []\n",
        "            node = node.children[char]\n",
        "        return self._collect(node, prefix)\n",
        "\n",
        "    def _collect(self, node, prefix):\n",
        "        results = []\n",
        "        if node.is_end_of_word:\n",
        "            results.append(prefix)\n",
        "        for char in node.children:\n",
        "            results.extend(self._collect(node.children[char], prefix + char))\n",
        "        return results"
      ]
    },
    {
      "cell_type": "code",
      "source": [
        "example_trie = Trie()\n",
        "example_queries = [\"apple\", \"apple pie\", \"banana\", \"cherry\", \"cherry pie\"]\n",
        "\n",
        "# Insert the queries into the trie\n",
        "for example_query in example_queries:\n",
        "    example_trie.insert(example_query)\n",
        "\n",
        "# Get search query suggestions for the prefix \"a\"\n",
        "example_prefix = \"a\"\n",
        "example_suggestions = example_trie.suggestions(example_prefix)\n",
        "print(f\"Suggestions for '{example_prefix}': {example_suggestions}\")"
      ],
      "metadata": {
        "colab": {
          "base_uri": "https://localhost:8080/"
        },
        "id": "Dj74hh0JuMeT",
        "outputId": "fa5d70bb-bce6-43d8-8a63-6e9cb5c575ca"
      },
      "execution_count": 4,
      "outputs": [
        {
          "output_type": "stream",
          "name": "stdout",
          "text": [
            "Suggestions for 'a': ['apple', 'apple pie']\n"
          ]
        }
      ]
    },
    {
      "cell_type": "code",
      "source": [
        "import pandas as pd\n",
        "from gensim.utils import tokenize\n",
        "\n",
        "# Load the CSV file\n",
        "df = pd.read_csv('/content/merged_genre.csv')\n",
        "\n",
        "# Define the tokenizer function\n",
        "def tokenize_text(text):\n",
        "    text = text.lower()\n",
        "    return list(tokenize(text))\n",
        "\n",
        "# Tokenize the 'description' column\n",
        "df['tokens'] = df['description'].apply(tokenize_text)\n",
        "df['titletokens'] = df['title'].apply(tokenize_text)\n",
        "\n",
        "# Print the resulting dataframe\n",
        "print(df.head())"
      ],
      "metadata": {
        "colab": {
          "base_uri": "https://localhost:8080/"
        },
        "id": "OyF-3lL5ujYV",
        "outputId": "18e97d23-b988-4f88-e82d-6b87528e908b"
      },
      "execution_count": 45,
      "outputs": [
        {
          "output_type": "stream",
          "name": "stdout",
          "text": [
            "   Unnamed: 0     type                                    title  \\\n",
            "0           0    Movie  Norm of the North: King Sized Adventure   \n",
            "1           1    Movie               Jandino: Whatever it Takes   \n",
            "2           2  TV Show                       Transformers Prime   \n",
            "3           3  TV Show         Transformers: Robots in Disguise   \n",
            "4           4    Movie                             #realityhigh   \n",
            "\n",
            "                   director  \\\n",
            "0  Richard Finn, Tim Maltby   \n",
            "1                       NaN   \n",
            "2                       NaN   \n",
            "3                       NaN   \n",
            "4          Fernando Lebrija   \n",
            "\n",
            "                                                cast  \\\n",
            "0  Alan Marriott, Andrew Toth, Brian Dobson, Cole...   \n",
            "1                                   Jandino Asporaat   \n",
            "2  Peter Cullen, Sumalee Montano, Frank Welker, J...   \n",
            "3  Will Friedle, Darren Criss, Constance Zimmer, ...   \n",
            "4  Nesta Cooper, Kate Walsh, John Michael Higgins...   \n",
            "\n",
            "                                    country         date_added  release_year  \\\n",
            "0  United States, India, South Korea, China  September 9, 2019          2019   \n",
            "1                            United Kingdom  September 9, 2016          2016   \n",
            "2                             United States  September 8, 2018          2013   \n",
            "3                             United States  September 8, 2018          2016   \n",
            "4                             United States  September 8, 2017          2017   \n",
            "\n",
            "     rating  duration  ... HorrorMovies TVShows  Documentaries  \\\n",
            "0     TV-PG    90 min  ...            0       0              0   \n",
            "1     TV-MA    94 min  ...            0       0              0   \n",
            "2  TV-Y7-FV  1 Season  ...            0       0              0   \n",
            "3     TV-Y7  1 Season  ...            0       0              0   \n",
            "4     TV-14    99 min  ...            0       0              0   \n",
            "\n",
            "   Music&Musicals  ClassicMovies  TVAction&Adventure  TMDB  IMDB  \\\n",
            "0               0              0                   0   7.2   8.1   \n",
            "1               0              0                   0   5.3   5.4   \n",
            "2               0              0                   0   9.4   9.6   \n",
            "3               0              0                   0   4.9   5.1   \n",
            "4               0              0                   0   7.1   7.3   \n",
            "\n",
            "                                              tokens  \\\n",
            "0  [before, planning, an, awesome, wedding, for, ...   \n",
            "1  [jandino, asporaat, riffs, on, the, challenges...   \n",
            "2  [with, the, help, of, three, human, allies, th...   \n",
            "3  [when, a, prison, ship, crash, unleashes, hund...   \n",
            "4  [when, nerdy, high, schooler, dani, finally, a...   \n",
            "\n",
            "                                      titletokens  \n",
            "0  [norm, of, the, north, king, sized, adventure]  \n",
            "1                  [jandino, whatever, it, takes]  \n",
            "2                           [transformers, prime]  \n",
            "3            [transformers, robots, in, disguise]  \n",
            "4                                   [realityhigh]  \n",
            "\n",
            "[5 rows x 58 columns]\n"
          ]
        }
      ]
    },
    {
      "cell_type": "code",
      "source": [
        "word_freq = {}"
      ],
      "metadata": {
        "id": "USWs-7utyU-0"
      },
      "execution_count": 46,
      "outputs": []
    },
    {
      "cell_type": "code",
      "source": [
        "words_for_trie = set()\n",
        "\n",
        "for ind, row in df.iterrows(): \n",
        "  for w in row['tokens']:\n",
        "    # add in frequency map\n",
        "    if w not in word_freq:\n",
        "        word_freq[w] = 1\n",
        "    else:\n",
        "        word_freq[w] += 1\n",
        "    # add in trie\n",
        "    words_for_trie.add(w)\n",
        "  for w in row['titletokens']:\n",
        "    # add in frequency map\n",
        "    if w not in word_freq:\n",
        "        word_freq[w] = 1000\n",
        "    else:\n",
        "        word_freq[w] += 1000\n",
        "    # add in trie\n",
        "    words_for_trie.add(w)"
      ],
      "metadata": {
        "id": "bzvsoVkBu4jo"
      },
      "execution_count": 47,
      "outputs": []
    },
    {
      "cell_type": "code",
      "source": [
        "print(len(words_for_trie))"
      ],
      "metadata": {
        "colab": {
          "base_uri": "https://localhost:8080/"
        },
        "id": "v9q0ziIQxPuj",
        "outputId": "ff1d938c-d9cf-476e-d1f6-a5e796ce416e"
      },
      "execution_count": 49,
      "outputs": [
        {
          "output_type": "stream",
          "name": "stdout",
          "text": [
            "22448\n"
          ]
        }
      ]
    },
    {
      "cell_type": "code",
      "source": [
        "trie = Trie()\n",
        "\n",
        "# Insert into the trie\n",
        "for w in words_for_trie:\n",
        "    trie.insert(w)\n",
        "\n",
        "# Get search query suggestions for the prefix \"a\"\n",
        "prefix = \"Trans\"\n",
        "suggestions = trie.suggestions(prefix.lower())\n",
        "\n",
        "# If there are multiple suggestions, display top 5 suggestions.\n",
        "sorted_suggestions = sorted(suggestions, key=lambda x: word_freq[x], reverse=True)\n",
        "if len(sorted_suggestions) > 5:\n",
        "    sorted_suggestions = sorted_suggestions[:5]\n",
        "\n",
        "print(f\"Suggestions for '{prefix}': {sorted_suggestions}\")"
      ],
      "metadata": {
        "colab": {
          "base_uri": "https://localhost:8080/"
        },
        "id": "_3EnFxfzxtjE",
        "outputId": "70062ce1-3723-48a7-f001-a16222e02747"
      },
      "execution_count": 56,
      "outputs": [
        {
          "output_type": "stream",
          "name": "stdout",
          "text": [
            "Suggestions for 'Trans': ['transformers', 'transylvania', 'transformed', 'transfer', 'transfers']\n"
          ]
        }
      ]
    },
    {
      "cell_type": "code",
      "source": [
        "print(word_freq['transformers'], word_freq['transylvania'], word_freq['transformed'], word_freq['transfer'], word_freq['transfers'])"
      ],
      "metadata": {
        "colab": {
          "base_uri": "https://localhost:8080/"
        },
        "id": "8Ht5MKpBx24x",
        "outputId": "a6a8d276-bbf4-4eaa-be0f-ce4c56e12e3b"
      },
      "execution_count": 58,
      "outputs": [
        {
          "output_type": "stream",
          "name": "stdout",
          "text": [
            "11002 3003 1015 1011 1006\n"
          ]
        }
      ]
    }
  ]
}