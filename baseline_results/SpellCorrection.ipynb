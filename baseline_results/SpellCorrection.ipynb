{
  "nbformat": 4,
  "nbformat_minor": 0,
  "metadata": {
    "colab": {
      "provenance": []
    },
    "kernelspec": {
      "name": "python3",
      "display_name": "Python 3"
    },
    "language_info": {
      "name": "python"
    }
  },
  "cells": [
    {
      "cell_type": "code",
      "execution_count": null,
      "metadata": {
        "id": "Cld-esoyxd1n"
      },
      "outputs": [],
      "source": [
        "from textblob import TextBlob"
      ]
    },
    {
      "cell_type": "code",
      "source": [
        "def spell_correction(sentence):\n",
        "    \n",
        "    sentence = TextBlob(sentence)\n",
        "    result = sentence.correct()\n",
        "    \n",
        "    print(result)"
      ],
      "metadata": {
        "id": "9gFS1XO_57an"
      },
      "execution_count": null,
      "outputs": []
    },
    {
      "cell_type": "code",
      "source": [
        "spell_correction(\"prrate ot Carribbean\")"
      ],
      "metadata": {
        "colab": {
          "base_uri": "https://localhost:8080/"
        },
        "id": "KAEUfRhh59sn",
        "outputId": "5b4fe107-4f53-4cb2-ca5f-92c6821d3a6e"
      },
      "execution_count": null,
      "outputs": [
        {
          "output_type": "stream",
          "name": "stdout",
          "text": [
            "pirate of Caribbean\n"
          ]
        }
      ]
    },
    {
      "cell_type": "code",
      "source": [],
      "metadata": {
        "id": "HKIIUlDZAWzF"
      },
      "execution_count": null,
      "outputs": []
    }
  ]
}